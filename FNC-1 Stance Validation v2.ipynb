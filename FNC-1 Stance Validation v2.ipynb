{
 "cells": [
  {
   "cell_type": "code",
   "execution_count": 27,
   "metadata": {
    "collapsed": false,
    "deletable": true,
    "editable": true
   },
   "outputs": [
    {
     "name": "stderr",
     "output_type": "stream",
     "text": [
      "Using TensorFlow backend.\n"
     ]
    }
   ],
   "source": [
    "%matplotlib inline\n",
    "%load_ext autoreload\n",
    "\n",
    "import os\n",
    "import subprocess\n",
    "\n",
    "import ujson\n",
    "import gensim\n",
    "from gensim.models.keyedvectors import KeyedVectors\n",
    "import numpy as np\n",
    "import pandas as pd\n",
    "import seaborn as sns\n",
    "from tqdm import tqdm\n",
    "import tensorflow as tf\n",
    "from sklearn.preprocessing import LabelEncoder\n",
    "from keras.preprocessing import sequence\n",
    "from keras.models import Sequential, load_model\n",
    "from keras.layers import Dense, Dropout, Activation\n",
    "from keras.layers import Embedding\n",
    "from keras.layers import Conv1D, GlobalMaxPooling1D\n",
    "\n",
    "from fnc_score import report_score\n",
    "\n",
    "from preprocessor import FNCDataPreProcessor\n",
    "\n",
    "sns.set(color_codes=True)"
   ]
  },
  {
   "cell_type": "code",
   "execution_count": 13,
   "metadata": {
    "collapsed": true,
    "deletable": true,
    "editable": true
   },
   "outputs": [],
   "source": [
    "path_fnr = '/home/ubuntu/FakeNewsRecognition/'\n",
    "path_fasttext = '/home/ubuntu/fastText/'"
   ]
  },
  {
   "cell_type": "markdown",
   "metadata": {
    "deletable": true,
    "editable": true,
    "toc": true
   },
   "source": [
    "<h1>Table of Contents<span class=\"tocSkip\"></span></h1>\n",
    "<div class=\"toc\" style=\"margin-top: 1em;\"><ul class=\"toc-item\"><li><span><a href=\"#Data-preprocessing\" data-toc-modified-id=\"Data-preprocessing-1\"><span class=\"toc-item-num\">1&nbsp;&nbsp;</span>Data preprocessing</a></span></li><li><span><a href=\"#Train-Simple-CNN\" data-toc-modified-id=\"Train-Simple-CNN-2\"><span class=\"toc-item-num\">2&nbsp;&nbsp;</span>Train Simple CNN</a></span><ul class=\"toc-item\"><li><span><a href=\"#Evaluate\" data-toc-modified-id=\"Evaluate-2.1\"><span class=\"toc-item-num\">2.1&nbsp;&nbsp;</span>Evaluate</a></span></li></ul></li><li><span><a href=\"#Training-FastText-classifier\" data-toc-modified-id=\"Training-FastText-classifier-3\"><span class=\"toc-item-num\">3&nbsp;&nbsp;</span>Training FastText classifier</a></span><ul class=\"toc-item\"><li><span><a href=\"#Prepare-FNC-training-data\" data-toc-modified-id=\"Prepare-FNC-training-data-3.1\"><span class=\"toc-item-num\">3.1&nbsp;&nbsp;</span>Prepare FNC training data</a></span></li><li><span><a href=\"#Training-classifier\" data-toc-modified-id=\"Training-classifier-3.2\"><span class=\"toc-item-num\">3.2&nbsp;&nbsp;</span>Training classifier</a></span></li><li><span><a href=\"#Results\" data-toc-modified-id=\"Results-3.3\"><span class=\"toc-item-num\">3.3&nbsp;&nbsp;</span>Results</a></span></li></ul></li></ul></div>"
   ]
  },
  {
   "cell_type": "markdown",
   "metadata": {
    "deletable": true,
    "editable": true
   },
   "source": [
    "# Data preprocessing"
   ]
  },
  {
   "cell_type": "code",
   "execution_count": 7,
   "metadata": {
    "collapsed": true,
    "deletable": true,
    "editable": true
   },
   "outputs": [],
   "source": [
    "path_data = path_fnr + 'data/8_fnc-1/'"
   ]
  },
  {
   "cell_type": "code",
   "execution_count": 8,
   "metadata": {
    "collapsed": true,
    "deletable": true,
    "editable": true
   },
   "outputs": [],
   "source": [
    "path_train_bodies = path_data + 'train_bodies.csv'\n",
    "path_train_stances = path_data + 'train_stances.csv'\n",
    "\n",
    "path_competition_test_bodies = path_data + 'competition_test_bodies.csv'\n",
    "path_competition_test_stances = path_data + 'competition_test_stances.csv'"
   ]
  },
  {
   "cell_type": "code",
   "execution_count": null,
   "metadata": {
    "collapsed": true,
    "deletable": true,
    "editable": true
   },
   "outputs": [],
   "source": [
    "preprocessor_train = FNCDataPreProcessor(path_train_bodies, path_train_stances)\n",
    "preprocessor_competition = FNCDataPreProcessor(path_competition_test_bodies, path_competition_test_stances)"
   ]
  },
  {
   "cell_type": "code",
   "execution_count": null,
   "metadata": {
    "collapsed": true,
    "deletable": true,
    "editable": true,
    "scrolled": true
   },
   "outputs": [],
   "source": [
    "X_train, X_test, y_train, y_test = preprocessor_train.training_data(feature_vec_body_size=250)"
   ]
  },
  {
   "cell_type": "code",
   "execution_count": null,
   "metadata": {
    "collapsed": true,
    "deletable": true,
    "editable": true
   },
   "outputs": [],
   "source": [
    "X_comp_train, X_comp_test, y_comp_train, y_comp_test = preprocessor_competition.training_data(feature_vec_body_size=250)"
   ]
  },
  {
   "cell_type": "code",
   "execution_count": null,
   "metadata": {
    "collapsed": true,
    "deletable": true,
    "editable": true
   },
   "outputs": [],
   "source": [
    "list(set(preprocessor_train.stances_raw['Stance']))"
   ]
  },
  {
   "cell_type": "code",
   "execution_count": null,
   "metadata": {
    "collapsed": true,
    "deletable": true,
    "editable": true
   },
   "outputs": [],
   "source": [
    "X_train.shape, X_test.shape, y_train.shape, y_test.shape"
   ]
  },
  {
   "cell_type": "markdown",
   "metadata": {
    "deletable": true,
    "editable": true
   },
   "source": [
    "# Train Simple CNN"
   ]
  },
  {
   "cell_type": "code",
   "execution_count": null,
   "metadata": {
    "collapsed": true,
    "deletable": true,
    "editable": true
   },
   "outputs": [],
   "source": [
    "def cnn_simple_model(input_shape, filters=250, kernel_size=3, hidden_dims=250):\n",
    "    model = Sequential()\n",
    "    model.add(Conv1D(filters, kernel_size, input_shape=(input_shape[0], input_shape[1]), padding='valid', \n",
    "               activation='relu', strides=1))\n",
    "    model.add(GlobalMaxPooling1D())\n",
    "#     model.add(Conv1D(filters, kernel_size, activation='relu'))\n",
    "#     model.add(GlobalMaxPooling1D())\n",
    "    # We add a vanilla hidden layer:\n",
    "    model.add(Dense(hidden_dims))\n",
    "    model.add(Dropout(0.2))\n",
    "    model.add(Activation('relu'))\n",
    "    # We project onto a single unit output layer, and squash it with a sigmoid:\n",
    "    model.add(Dense(4))\n",
    "    model.add(Activation('sigmoid'))\n",
    "    model.compile(loss='categorical_crossentropy', optimizer='adam', metrics=['accuracy'])\n",
    "    \n",
    "    return model"
   ]
  },
  {
   "cell_type": "code",
   "execution_count": null,
   "metadata": {
    "collapsed": true,
    "deletable": true,
    "editable": true
   },
   "outputs": [],
   "source": [
    "input_shape = 271, 300\n",
    "\n",
    "filters = 250\n",
    "kernel_size = 3\n",
    "hidden_dims = 250\n",
    "\n",
    "batch_size = 32\n",
    "epochs = 3"
   ]
  },
  {
   "cell_type": "code",
   "execution_count": null,
   "metadata": {
    "collapsed": true,
    "deletable": true,
    "editable": true
   },
   "outputs": [],
   "source": [
    "with tf.device('/gpu:0'):\n",
    "    cnn_model = cnn_simple_model(input_shape, filters, kernel_size, hidden_dims)\n",
    "    cnn_model.fit(X_train, y_train, batch_size=batch_size, epochs=epochs, verbose=1, validation_data=(X_test, y_test))"
   ]
  },
  {
   "cell_type": "code",
   "execution_count": null,
   "metadata": {
    "collapsed": true,
    "deletable": true,
    "editable": true
   },
   "outputs": [],
   "source": [
    "cnn_model.save('data/fnc-1-categorical-3-epochs.model')"
   ]
  },
  {
   "cell_type": "markdown",
   "metadata": {
    "deletable": true,
    "editable": true
   },
   "source": [
    "## Evaluate "
   ]
  },
  {
   "cell_type": "code",
   "execution_count": null,
   "metadata": {
    "collapsed": true,
    "deletable": true,
    "editable": true
   },
   "outputs": [],
   "source": [
    "cnn_model = load_model('data/fnc-1.model')"
   ]
  },
  {
   "cell_type": "code",
   "execution_count": null,
   "metadata": {
    "collapsed": true,
    "deletable": true,
    "editable": true
   },
   "outputs": [],
   "source": [
    "y_pred = cnn_model.predict(X_train, verbose=1)\n",
    "y_comp_pred = cnn_model.predict(X_comp_train, verbose=1)"
   ]
  },
  {
   "cell_type": "code",
   "execution_count": null,
   "metadata": {
    "collapsed": true,
    "deletable": true,
    "editable": true
   },
   "outputs": [],
   "source": [
    "labels = list(set(preprocessor_train.stances_raw['Stance']))\n",
    "def to_labels(m, labels):\n",
    "    l = []\n",
    "    for row in np.argmax(m, axis=1):\n",
    "        l.append(labels[row])\n",
    "    return l"
   ]
  },
  {
   "cell_type": "code",
   "execution_count": null,
   "metadata": {
    "collapsed": true,
    "deletable": true,
    "editable": true
   },
   "outputs": [],
   "source": [
    "y_train_labeled = to_labels(y_train, labels)\n",
    "y_pred_labeled = to_labels(y_pred, labels)\n",
    "\n",
    "y_comp_train_labeled = to_labels(y_comp_train, labels)\n",
    "y_comp_pred_labeled = to_labels(y_comp_pred, labels)"
   ]
  },
  {
   "cell_type": "code",
   "execution_count": null,
   "metadata": {
    "collapsed": true,
    "deletable": true,
    "editable": true
   },
   "outputs": [],
   "source": [
    "y_comp_train_labeled = to_labels(y_comp_train, labels)\n",
    "y_comp_train_labeled"
   ]
  },
  {
   "cell_type": "code",
   "execution_count": null,
   "metadata": {
    "collapsed": true,
    "deletable": true,
    "editable": true
   },
   "outputs": [],
   "source": [
    "report_score(y_train_labeled,      y_pred_labeled)\n",
    "report_score(y_comp_train_labeled, y_comp_pred_labeled)"
   ]
  },
  {
   "cell_type": "markdown",
   "metadata": {
    "deletable": true,
    "editable": true
   },
   "source": [
    "#  Training FastText classifier\n",
    "\n",
    "https://github.com/facebookresearch/fastText\n",
    "\n",
    "Mostly from tutorial: https://github.com/facebookresearch/fastText/blob/master/tutorials/supervised-learning.md\n",
    "\n",
    "fastText folder with compiled ./fasttext should be located in the parent = `~` directory\n",
    "\n",
    "Change log: \n",
    "1. First I tried without any cleaning, but the output seemed very much random"
   ]
  },
  {
   "cell_type": "markdown",
   "metadata": {
    "deletable": true,
    "editable": true
   },
   "source": [
    "## Prepare FNC training data"
   ]
  },
  {
   "cell_type": "markdown",
   "metadata": {
    "deletable": true,
    "editable": true
   },
   "source": [
    "FastText supervised algorithm requires data in the following format: \n",
    "```\n",
    "__label__sauce __label__cheese How much does potato starch affect a cheese sauce recipe?\n",
    "__label__food-safety __label__acidity Dangerous pathogens capable of growing in acidic environments\n",
    "__label__cast-iron __label__stove How do I cover up the white spots on my cast iron stove?\n",
    "...\n",
    "```"
   ]
  },
  {
   "cell_type": "code",
   "execution_count": 9,
   "metadata": {
    "collapsed": true,
    "deletable": true,
    "editable": true
   },
   "outputs": [],
   "source": [
    "path_data_fasttext = path_data + 'fasttext/'\n",
    "path_data_fasttext_supervised_train = path_data_fasttext + 'supervised.train'\n",
    "path_data_fasttext_supervised_competition = path_data_fasttext + 'supervised.competition_train'"
   ]
  },
  {
   "cell_type": "code",
   "execution_count": null,
   "metadata": {
    "collapsed": true,
    "deletable": true,
    "editable": true
   },
   "outputs": [],
   "source": [
    "def to_fasttext_classifier_simple(pp, path):\n",
    "    with open(path, 'w') as _out:\n",
    "        for stance_id, headline, body_id, stance in tqdm(pp.stances_raw.itertuples()):\n",
    "            body = pp.bodies_raw.loc[pp.bodies_raw['Body ID'] == body_id].articleBody.values[0]\n",
    "            body = body.replace('\\n', '')\n",
    "            _out.write('__label__%s %s -- %s\\n' % (stance, headline, body))\n",
    "            \n",
    "def to_fasttext_classifier_tagged(pp, path):\n",
    "    with open(path, 'w') as _out:\n",
    "        bar = tqdm(total=len(pp.stances_raw))\n",
    "        for stance_idx, (stance_id, headline, body_id, stance) in enumerate(pp.stances_raw.itertuples()):\n",
    "            body_idx = pp.bodies_raw.loc[pp.bodies_raw['Body ID'] == body_id].index.values[0]\n",
    "            tagged_headline = ' '.join(pp.stances_tagged[stance_idx])\n",
    "            tagged_body = ' '.join(pp.bodies_tagged[body_idx])\n",
    "            _out.write('__label__%s %s -- %s\\n' % (stance, tagged_headline, tagged_body))\n",
    "            bar.update()"
   ]
  },
  {
   "cell_type": "code",
   "execution_count": null,
   "metadata": {
    "collapsed": true,
    "deletable": true,
    "editable": true,
    "scrolled": true
   },
   "outputs": [],
   "source": [
    "to_fasttext_classifier_tagged(preprocessor_train, path_data_fasttext_supervised_train)"
   ]
  },
  {
   "cell_type": "code",
   "execution_count": null,
   "metadata": {
    "collapsed": true,
    "deletable": true,
    "editable": true,
    "scrolled": true
   },
   "outputs": [],
   "source": [
    "to_fasttext_classifier_tagged(preprocessor_competition, path_data_fasttext_supervised_competition)"
   ]
  },
  {
   "cell_type": "markdown",
   "metadata": {
    "deletable": true,
    "editable": true
   },
   "source": [
    "## Training classifier"
   ]
  },
  {
   "cell_type": "code",
   "execution_count": 28,
   "metadata": {
    "collapsed": true,
    "deletable": true,
    "editable": true
   },
   "outputs": [],
   "source": [
    "path_data_fasttext_model_train = path_data_fasttext + 'model_train'"
   ]
  },
  {
   "cell_type": "code",
   "execution_count": 32,
   "metadata": {
    "collapsed": false,
    "deletable": true,
    "editable": true
   },
   "outputs": [
    {
     "data": {
      "text/plain": [
       "0"
      ]
     },
     "execution_count": 32,
     "metadata": {},
     "output_type": "execute_result"
    }
   ],
   "source": [
    "subprocess.call('cd %s && ./fasttext supervised -epoch 25 -wordNgrams 5 -input %s -output %s' % \n",
    "                (path_fasttext, path_data_fasttext_supervised_train, path_data_fasttext_model_train), shell=True)"
   ]
  },
  {
   "cell_type": "code",
   "execution_count": 33,
   "metadata": {
    "collapsed": false,
    "deletable": true,
    "editable": true
   },
   "outputs": [
    {
     "data": {
      "text/plain": [
       "0"
      ]
     },
     "execution_count": 33,
     "metadata": {},
     "output_type": "execute_result"
    }
   ],
   "source": [
    "subprocess.call('cd %s && ./fasttext test \"%s.bin\" %s' % \n",
    "                (path_fasttext, path_data_fasttext_model_train, path_data_fasttext_supervised_train), shell=True)"
   ]
  },
  {
   "cell_type": "code",
   "execution_count": 34,
   "metadata": {
    "collapsed": false,
    "deletable": true,
    "editable": true
   },
   "outputs": [
    {
     "data": {
      "text/plain": [
       "0"
      ]
     },
     "execution_count": 34,
     "metadata": {},
     "output_type": "execute_result"
    }
   ],
   "source": [
    "subprocess.call('cd %s && ./fasttext test \"%s.bin\" %s' % \n",
    "                (path_fasttext, path_data_fasttext_model_train, path_data_fasttext_supervised_competition), shell=True)"
   ]
  },
  {
   "cell_type": "markdown",
   "metadata": {
    "deletable": true,
    "editable": true
   },
   "source": [
    "## Results\n",
    "\n",
    "Precision and recall for the same data:\n",
    "\n",
    "```\n",
    "N       49972\n",
    "P@1     0.863\n",
    "R@1     0.863\n",
    "Number of examples: 49972\n",
    "```\n",
    "\n",
    "Precision and recall for the competition data:\n",
    "\n",
    "```\n",
    "N       25413\n",
    "P@1     0.593\n",
    "R@1     0.593\n",
    "Number of examples: 25413\n",
    "```\n",
    "\n",
    "**Not much worse than CNN above!**"
   ]
  },
  {
   "cell_type": "code",
   "execution_count": null,
   "metadata": {
    "collapsed": true,
    "deletable": true,
    "editable": true
   },
   "outputs": [],
   "source": []
  }
 ],
 "metadata": {
  "kernelspec": {
   "display_name": "Python 3",
   "language": "python",
   "name": "python3"
  },
  "language_info": {
   "codemirror_mode": {
    "name": "ipython",
    "version": 3
   },
   "file_extension": ".py",
   "mimetype": "text/x-python",
   "name": "python",
   "nbconvert_exporter": "python",
   "pygments_lexer": "ipython3",
   "version": "3.5.2"
  },
  "toc": {
   "nav_menu": {},
   "number_sections": true,
   "sideBar": true,
   "skip_h1_title": false,
   "toc_cell": true,
   "toc_position": {},
   "toc_section_display": "block",
   "toc_window_display": false
  }
 },
 "nbformat": 4,
 "nbformat_minor": 2
}

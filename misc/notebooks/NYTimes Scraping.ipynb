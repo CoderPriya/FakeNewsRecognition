{
 "cells": [
  {
   "cell_type": "code",
   "execution_count": 27,
   "metadata": {
    "ExecuteTime": {
     "end_time": "2018-02-11T00:18:33.115258Z",
     "start_time": "2018-02-11T00:18:33.105154Z"
    },
    "collapsed": true,
    "deletable": true,
    "editable": true
   },
   "outputs": [],
   "source": [
    "from time import sleep\n",
    "import multiprocessing\n",
    "from datetime import datetime\n",
    "\n",
    "import ujson\n",
    "import requests\n",
    "import newspaper\n",
    "from tqdm import tqdm\n",
    "from peewee import SqliteDatabase, fn\n",
    "from playhouse.shortcuts import model_to_dict\n",
    "\n",
    "from database import Page"
   ]
  },
  {
   "cell_type": "markdown",
   "metadata": {
    "deletable": true,
    "editable": true,
    "toc": true
   },
   "source": [
    "<h1>Table of Contents<span class=\"tocSkip\"></span></h1>\n",
    "<div class=\"toc\" style=\"margin-top: 1em;\"><ul class=\"toc-item\"><li><span><a href=\"#Download-urls-from-archive\" data-toc-modified-id=\"Download-urls-from-archive-1\"><span class=\"toc-item-num\">1&nbsp;&nbsp;</span>Download urls from archive</a></span><ul class=\"toc-item\"><li><span><a href=\"#Explore-document-types\" data-toc-modified-id=\"Explore-document-types-1.1\"><span class=\"toc-item-num\">1.1&nbsp;&nbsp;</span>Explore document types</a></span></li></ul></li><li><span><a href=\"#Scrape-the-content\" data-toc-modified-id=\"Scrape-the-content-2\"><span class=\"toc-item-num\">2&nbsp;&nbsp;</span>Scrape the content</a></span></li><li><span><a href=\"#Insert-into-DB\" data-toc-modified-id=\"Insert-into-DB-3\"><span class=\"toc-item-num\">3&nbsp;&nbsp;</span>Insert into DB</a></span></li></ul></div>"
   ]
  },
  {
   "cell_type": "markdown",
   "metadata": {
    "ExecuteTime": {
     "end_time": "2018-02-08T19:57:49.444159Z",
     "start_time": "2018-02-08T19:57:49.439441Z"
    },
    "deletable": true,
    "editable": true
   },
   "source": [
    "# Download urls from archive"
   ]
  },
  {
   "cell_type": "code",
   "execution_count": 14,
   "metadata": {
    "ExecuteTime": {
     "end_time": "2018-02-08T20:40:39.224867Z",
     "start_time": "2018-02-08T20:10:43.890996Z"
    },
    "collapsed": false,
    "deletable": true,
    "editable": true,
    "scrolled": true
   },
   "outputs": [
    {
     "name": "stderr",
     "output_type": "stream",
     "text": [
      "218it [29:43,  7.66s/it]\n"
     ]
    },
    {
     "ename": "JSONDecodeError",
     "evalue": "Expecting value: line 1 column 1 (char 0)",
     "output_type": "error",
     "traceback": [
      "\u001b[0;31m---------------------------------------------------------------------------\u001b[0m",
      "\u001b[0;31mJSONDecodeError\u001b[0m                           Traceback (most recent call last)",
      "\u001b[0;32m<ipython-input-14-5a1004f917e4>\u001b[0m in \u001b[0;36m<module>\u001b[0;34m()\u001b[0m\n\u001b[1;32m     16\u001b[0m                 \u001b[0;32mif\u001b[0m \u001b[0mdocs\u001b[0m \u001b[0;32mis\u001b[0m \u001b[0;32mNone\u001b[0m\u001b[0;34m:\u001b[0m\u001b[0;34m\u001b[0m\u001b[0m\n\u001b[1;32m     17\u001b[0m                     \u001b[0mresponse\u001b[0m \u001b[0;34m=\u001b[0m \u001b[0mrequests\u001b[0m\u001b[0;34m.\u001b[0m\u001b[0mget\u001b[0m\u001b[0;34m(\u001b[0m\u001b[0murl\u001b[0m \u001b[0;34m%\u001b[0m \u001b[0;34m(\u001b[0m\u001b[0myear\u001b[0m\u001b[0;34m,\u001b[0m \u001b[0mmonth\u001b[0m\u001b[0;34m)\u001b[0m\u001b[0;34m)\u001b[0m\u001b[0;34m\u001b[0m\u001b[0m\n\u001b[0;32m---> 18\u001b[0;31m                     \u001b[0mdocs\u001b[0m \u001b[0;34m=\u001b[0m \u001b[0mresponse\u001b[0m\u001b[0;34m.\u001b[0m\u001b[0mjson\u001b[0m\u001b[0;34m(\u001b[0m\u001b[0;34m)\u001b[0m\u001b[0;34m[\u001b[0m\u001b[0;34m'response'\u001b[0m\u001b[0;34m]\u001b[0m\u001b[0;34m[\u001b[0m\u001b[0;34m'docs'\u001b[0m\u001b[0;34m]\u001b[0m\u001b[0;34m\u001b[0m\u001b[0m\n\u001b[0m\u001b[1;32m     19\u001b[0m \u001b[0;34m\u001b[0m\u001b[0m\n\u001b[1;32m     20\u001b[0m                 \u001b[0;32mfor\u001b[0m \u001b[0mdoc\u001b[0m \u001b[0;32min\u001b[0m \u001b[0mdocs\u001b[0m\u001b[0;34m:\u001b[0m\u001b[0;34m\u001b[0m\u001b[0m\n",
      "\u001b[0;32m/Library/Frameworks/Python.framework/Versions/3.5/lib/python3.5/site-packages/requests/models.py\u001b[0m in \u001b[0;36mjson\u001b[0;34m(self, **kwargs)\u001b[0m\n\u001b[1;32m    882\u001b[0m                 \u001b[0;32mtry\u001b[0m\u001b[0;34m:\u001b[0m\u001b[0;34m\u001b[0m\u001b[0m\n\u001b[1;32m    883\u001b[0m                     return complexjson.loads(\n\u001b[0;32m--> 884\u001b[0;31m                         \u001b[0mself\u001b[0m\u001b[0;34m.\u001b[0m\u001b[0mcontent\u001b[0m\u001b[0;34m.\u001b[0m\u001b[0mdecode\u001b[0m\u001b[0;34m(\u001b[0m\u001b[0mencoding\u001b[0m\u001b[0;34m)\u001b[0m\u001b[0;34m,\u001b[0m \u001b[0;34m**\u001b[0m\u001b[0mkwargs\u001b[0m\u001b[0;34m\u001b[0m\u001b[0m\n\u001b[0m\u001b[1;32m    885\u001b[0m                     )\n\u001b[1;32m    886\u001b[0m                 \u001b[0;32mexcept\u001b[0m \u001b[0mUnicodeDecodeError\u001b[0m\u001b[0;34m:\u001b[0m\u001b[0;34m\u001b[0m\u001b[0m\n",
      "\u001b[0;32m/Library/Frameworks/Python.framework/Versions/3.5/lib/python3.5/site-packages/simplejson/__init__.py\u001b[0m in \u001b[0;36mloads\u001b[0;34m(s, encoding, cls, object_hook, parse_float, parse_int, parse_constant, object_pairs_hook, use_decimal, **kw)\u001b[0m\n\u001b[1;32m    514\u001b[0m             \u001b[0mparse_constant\u001b[0m \u001b[0;32mis\u001b[0m \u001b[0;32mNone\u001b[0m \u001b[0;32mand\u001b[0m \u001b[0mobject_pairs_hook\u001b[0m \u001b[0;32mis\u001b[0m \u001b[0;32mNone\u001b[0m\u001b[0;34m\u001b[0m\u001b[0m\n\u001b[1;32m    515\u001b[0m             and not use_decimal and not kw):\n\u001b[0;32m--> 516\u001b[0;31m         \u001b[0;32mreturn\u001b[0m \u001b[0m_default_decoder\u001b[0m\u001b[0;34m.\u001b[0m\u001b[0mdecode\u001b[0m\u001b[0;34m(\u001b[0m\u001b[0ms\u001b[0m\u001b[0;34m)\u001b[0m\u001b[0;34m\u001b[0m\u001b[0m\n\u001b[0m\u001b[1;32m    517\u001b[0m     \u001b[0;32mif\u001b[0m \u001b[0mcls\u001b[0m \u001b[0;32mis\u001b[0m \u001b[0;32mNone\u001b[0m\u001b[0;34m:\u001b[0m\u001b[0;34m\u001b[0m\u001b[0m\n\u001b[1;32m    518\u001b[0m         \u001b[0mcls\u001b[0m \u001b[0;34m=\u001b[0m \u001b[0mJSONDecoder\u001b[0m\u001b[0;34m\u001b[0m\u001b[0m\n",
      "\u001b[0;32m/Library/Frameworks/Python.framework/Versions/3.5/lib/python3.5/site-packages/simplejson/decoder.py\u001b[0m in \u001b[0;36mdecode\u001b[0;34m(self, s, _w, _PY3)\u001b[0m\n\u001b[1;32m    372\u001b[0m         \u001b[0;32mif\u001b[0m \u001b[0m_PY3\u001b[0m \u001b[0;32mand\u001b[0m \u001b[0misinstance\u001b[0m\u001b[0;34m(\u001b[0m\u001b[0ms\u001b[0m\u001b[0;34m,\u001b[0m \u001b[0mbinary_type\u001b[0m\u001b[0;34m)\u001b[0m\u001b[0;34m:\u001b[0m\u001b[0;34m\u001b[0m\u001b[0m\n\u001b[1;32m    373\u001b[0m             \u001b[0ms\u001b[0m \u001b[0;34m=\u001b[0m \u001b[0ms\u001b[0m\u001b[0;34m.\u001b[0m\u001b[0mdecode\u001b[0m\u001b[0;34m(\u001b[0m\u001b[0mself\u001b[0m\u001b[0;34m.\u001b[0m\u001b[0mencoding\u001b[0m\u001b[0;34m)\u001b[0m\u001b[0;34m\u001b[0m\u001b[0m\n\u001b[0;32m--> 374\u001b[0;31m         \u001b[0mobj\u001b[0m\u001b[0;34m,\u001b[0m \u001b[0mend\u001b[0m \u001b[0;34m=\u001b[0m \u001b[0mself\u001b[0m\u001b[0;34m.\u001b[0m\u001b[0mraw_decode\u001b[0m\u001b[0;34m(\u001b[0m\u001b[0ms\u001b[0m\u001b[0;34m)\u001b[0m\u001b[0;34m\u001b[0m\u001b[0m\n\u001b[0m\u001b[1;32m    375\u001b[0m         \u001b[0mend\u001b[0m \u001b[0;34m=\u001b[0m \u001b[0m_w\u001b[0m\u001b[0;34m(\u001b[0m\u001b[0ms\u001b[0m\u001b[0;34m,\u001b[0m \u001b[0mend\u001b[0m\u001b[0;34m)\u001b[0m\u001b[0;34m.\u001b[0m\u001b[0mend\u001b[0m\u001b[0;34m(\u001b[0m\u001b[0;34m)\u001b[0m\u001b[0;34m\u001b[0m\u001b[0m\n\u001b[1;32m    376\u001b[0m         \u001b[0;32mif\u001b[0m \u001b[0mend\u001b[0m \u001b[0;34m!=\u001b[0m \u001b[0mlen\u001b[0m\u001b[0;34m(\u001b[0m\u001b[0ms\u001b[0m\u001b[0;34m)\u001b[0m\u001b[0;34m:\u001b[0m\u001b[0;34m\u001b[0m\u001b[0m\n",
      "\u001b[0;32m/Library/Frameworks/Python.framework/Versions/3.5/lib/python3.5/site-packages/simplejson/decoder.py\u001b[0m in \u001b[0;36mraw_decode\u001b[0;34m(self, s, idx, _w, _PY3)\u001b[0m\n\u001b[1;32m    402\u001b[0m             \u001b[0;32melif\u001b[0m \u001b[0mord0\u001b[0m \u001b[0;34m==\u001b[0m \u001b[0;36m0xef\u001b[0m \u001b[0;32mand\u001b[0m \u001b[0ms\u001b[0m\u001b[0;34m[\u001b[0m\u001b[0midx\u001b[0m\u001b[0;34m:\u001b[0m\u001b[0midx\u001b[0m \u001b[0;34m+\u001b[0m \u001b[0;36m3\u001b[0m\u001b[0;34m]\u001b[0m \u001b[0;34m==\u001b[0m \u001b[0;34m'\\xef\\xbb\\xbf'\u001b[0m\u001b[0;34m:\u001b[0m\u001b[0;34m\u001b[0m\u001b[0m\n\u001b[1;32m    403\u001b[0m                 \u001b[0midx\u001b[0m \u001b[0;34m+=\u001b[0m \u001b[0;36m3\u001b[0m\u001b[0;34m\u001b[0m\u001b[0m\n\u001b[0;32m--> 404\u001b[0;31m         \u001b[0;32mreturn\u001b[0m \u001b[0mself\u001b[0m\u001b[0;34m.\u001b[0m\u001b[0mscan_once\u001b[0m\u001b[0;34m(\u001b[0m\u001b[0ms\u001b[0m\u001b[0;34m,\u001b[0m \u001b[0midx\u001b[0m\u001b[0;34m=\u001b[0m\u001b[0m_w\u001b[0m\u001b[0;34m(\u001b[0m\u001b[0ms\u001b[0m\u001b[0;34m,\u001b[0m \u001b[0midx\u001b[0m\u001b[0;34m)\u001b[0m\u001b[0;34m.\u001b[0m\u001b[0mend\u001b[0m\u001b[0;34m(\u001b[0m\u001b[0;34m)\u001b[0m\u001b[0;34m)\u001b[0m\u001b[0;34m\u001b[0m\u001b[0m\n\u001b[0m",
      "\u001b[0;31mJSONDecodeError\u001b[0m: Expecting value: line 1 column 1 (char 0)"
     ]
    }
   ],
   "source": [
    "url = 'https://api.nytimes.com/svc/archive/v1/%s/%s.json?api-key=29a51170349f43d9abe651b0e2331ea6'\n",
    "year_from = 2000  # 1852\n",
    "year_to = 2018\n",
    "\n",
    "with open('data/nytimes/archive.json', 'w') as out_archive:\n",
    "    with tqdm(total=(year_from - year_to) * 12) as progress:\n",
    "        for year in range(year_from, year_to + 1):\n",
    "            for month in range(1, 13):\n",
    "                docs = None\n",
    "                try:\n",
    "                    response = requests.get(url % (year, month))\n",
    "                    docs = response.json()['response']['docs']\n",
    "                except Exception:\n",
    "                    sleep(10)\n",
    "\n",
    "                if docs is None:\n",
    "                    response = requests.get(url % (year, month))\n",
    "                    docs = response.json()['response']['docs']\n",
    "\n",
    "                for doc in docs:\n",
    "                    out_archive.write(ujson.dumps(doc) + '\\n')\n",
    "\n",
    "                progress.update()"
   ]
  },
  {
   "cell_type": "markdown",
   "metadata": {
    "ExecuteTime": {
     "end_time": "2018-02-08T20:03:58.301581Z",
     "start_time": "2018-02-08T20:03:58.295032Z"
    },
    "deletable": true,
    "editable": true
   },
   "source": [
    "## Explore document types"
   ]
  },
  {
   "cell_type": "code",
   "execution_count": 15,
   "metadata": {
    "ExecuteTime": {
     "end_time": "2018-02-08T20:47:49.297334Z",
     "start_time": "2018-02-08T20:45:42.888652Z"
    },
    "collapsed": false,
    "deletable": true,
    "editable": true
   },
   "outputs": [
    {
     "name": "stderr",
     "output_type": "stream",
     "text": [
      "2002799it [02:06, 15852.34it/s]\n"
     ]
    }
   ],
   "source": [
    "archive_entries_doc_types = {}\n",
    "with open('data/nytimes/archive.json', 'r') as in_archive: \n",
    "    with tqdm() as progress:\n",
    "        for line in in_archive:\n",
    "            archive_entry = ujson.loads(line)\n",
    "            doc_type = archive_entry['document_type']\n",
    "            \n",
    "            archive_entries_doc_types.setdefault(doc_type, 0)\n",
    "            archive_entries_doc_types[doc_type] += 1\n",
    "            \n",
    "            progress.update()"
   ]
  },
  {
   "cell_type": "code",
   "execution_count": 16,
   "metadata": {
    "ExecuteTime": {
     "end_time": "2018-02-08T20:50:21.924779Z",
     "start_time": "2018-02-08T20:50:21.893702Z"
    },
    "collapsed": false,
    "deletable": true,
    "editable": true
   },
   "outputs": [
    {
     "data": {
      "text/plain": [
       "{'article': 1550951, 'blogpost': 372608, 'multimedia': 79240}"
      ]
     },
     "execution_count": 16,
     "metadata": {},
     "output_type": "execute_result"
    }
   ],
   "source": [
    "archive_entries_doc_types"
   ]
  },
  {
   "cell_type": "markdown",
   "metadata": {
    "ExecuteTime": {
     "end_time": "2018-02-08T19:58:19.260207Z",
     "start_time": "2018-02-08T19:58:19.255500Z"
    },
    "deletable": true,
    "editable": true
   },
   "source": [
    "# Scrape the content"
   ]
  },
  {
   "cell_type": "code",
   "execution_count": 2,
   "metadata": {
    "ExecuteTime": {
     "end_time": "2018-02-08T21:00:05.890808Z",
     "start_time": "2018-02-08T21:00:05.870661Z"
    },
    "collapsed": false,
    "deletable": true,
    "editable": true
   },
   "outputs": [],
   "source": [
    "def scrape_article(line):\n",
    "    archive_entry = ujson.loads(line)\n",
    "    url = archive_entry['web_url']\n",
    "\n",
    "    if archive_entry['document_type'] != 'article':\n",
    "        return None\n",
    "\n",
    "    try:\n",
    "        article = newspaper.Article(url, fetch_images=False)\n",
    "        article.download()\n",
    "        article.parse()\n",
    "    except Exception:\n",
    "        print('Something went wrong parsing url:', url)\n",
    "        return None\n",
    "\n",
    "    archive_entry['newspaper'] = {\n",
    "        'title': article.title,\n",
    "        'content': article.text,\n",
    "        'authors': ', '.join(article.authors),\n",
    "        'keywords': ', '.join(article.keywords),\n",
    "        'meta_keywords': article.meta_keywords,\n",
    "        'meta_description': article.meta_description,\n",
    "        'tags': ', '.join(article.tags),\n",
    "        'summary': article.summary\n",
    "    }\n",
    "    \n",
    "    return archive_entry"
   ]
  },
  {
   "cell_type": "code",
   "execution_count": 5,
   "metadata": {
    "ExecuteTime": {
     "end_time": "2018-02-08T21:28:09.933378Z",
     "start_time": "2018-02-08T21:27:01.948204Z"
    },
    "collapsed": false,
    "deletable": true,
    "editable": true
   },
   "outputs": [
    {
     "name": "stderr",
     "output_type": "stream",
     "text": [
      "5it [00:08,  3.46s/it]"
     ]
    },
    {
     "name": "stdout",
     "output_type": "stream",
     "text": [
      "Article `download()` failed with 404 Client Error: Not Found for url: http://www.nytimes.com/2000/01/01/world/mideast-talks-begin-monday.html on URL https://www.nytimes.com/2000/01/01/world/mideast-talks-begin-monday.html\n",
      "Something went wrong parsing url: https://www.nytimes.com/2000/01/01/world/mideast-talks-begin-monday.html\n"
     ]
    },
    {
     "name": "stderr",
     "output_type": "stream",
     "text": [
      "203it [00:35,  6.00it/s]"
     ]
    },
    {
     "name": "stdout",
     "output_type": "stream",
     "text": [
      "Article `download()` failed with 404 Client Error: Not Found for url: http://www.nytimes.com/2000/01/02/nyregion/the-year-2000-a-night-of-jubilation-as-times-square-welcomes-the-dawn-of-2000.html on URL https://www.nytimes.com/2000/01/02/nyregion/the-year-2000-a-night-of-jubilation-as-times-square-welcomes-the-dawn-of-2000.html\n",
      "Something went wrong parsing url: https://www.nytimes.com/2000/01/02/nyregion/the-year-2000-a-night-of-jubilation-as-times-square-welcomes-the-dawn-of-2000.html\n"
     ]
    },
    {
     "name": "stderr",
     "output_type": "stream",
     "text": [
      "264it [00:43,  1.98it/s]"
     ]
    },
    {
     "name": "stdout",
     "output_type": "stream",
     "text": [
      "Article `download()` failed with 404 Client Error: Not Found for url: http://www.nytimes.com/2000/01/02/nyregion/neighborhood-report-winemaker-splits.html on URL https://www.nytimes.com/2000/01/02/nyregion/neighborhood-report-winemaker-splits.html\n",
      "Something went wrong parsing url: https://www.nytimes.com/2000/01/02/nyregion/neighborhood-report-winemaker-splits.html\n"
     ]
    },
    {
     "name": "stderr",
     "output_type": "stream",
     "text": [
      "362it [00:56,  4.55it/s]"
     ]
    },
    {
     "name": "stdout",
     "output_type": "stream",
     "text": [
      "Article `download()` failed with 404 Client Error: Not Found for url: http://www.nytimes.com/2000/01/02/nyregion/a-110-million-deficit-for-this.html on URL https://www.nytimes.com/2000/01/02/nyregion/a-110-million-deficit-for-this.html\n",
      "Something went wrong parsing url: https://www.nytimes.com/2000/01/02/nyregion/a-110-million-deficit-for-this.html\n"
     ]
    },
    {
     "name": "stderr",
     "output_type": "stream",
     "text": [
      "441it [01:05,  4.70it/s]"
     ]
    },
    {
     "name": "stdout",
     "output_type": "stream",
     "text": [
      "Article `download()` failed with 404 Client Error: Not Found for url: http://www.nytimes.com/2000/01/02/nyregion/photographer-s-journal-087289.html on URL https://www.nytimes.com/2000/01/02/nyregion/photographer-s-journal-087289.html\n",
      "Something went wrong parsing url: https://www.nytimes.com/2000/01/02/nyregion/photographer-s-journal-087289.html\n"
     ]
    },
    {
     "name": "stderr",
     "output_type": "stream",
     "text": [
      "455it [01:07,  6.70it/s]\n"
     ]
    },
    {
     "ename": "KeyboardInterrupt",
     "evalue": "",
     "output_type": "error",
     "traceback": [
      "\u001b[0;31m---------------------------------------------------------------------------\u001b[0m",
      "\u001b[0;31mIndexError\u001b[0m                                Traceback (most recent call last)",
      "\u001b[0;32m/Library/Frameworks/Python.framework/Versions/3.5/lib/python3.5/multiprocessing/pool.py\u001b[0m in \u001b[0;36mnext\u001b[0;34m(self, timeout)\u001b[0m\n\u001b[1;32m    679\u001b[0m             \u001b[0;32mtry\u001b[0m\u001b[0;34m:\u001b[0m\u001b[0;34m\u001b[0m\u001b[0m\n\u001b[0;32m--> 680\u001b[0;31m                 \u001b[0mitem\u001b[0m \u001b[0;34m=\u001b[0m \u001b[0mself\u001b[0m\u001b[0;34m.\u001b[0m\u001b[0m_items\u001b[0m\u001b[0;34m.\u001b[0m\u001b[0mpopleft\u001b[0m\u001b[0;34m(\u001b[0m\u001b[0;34m)\u001b[0m\u001b[0;34m\u001b[0m\u001b[0m\n\u001b[0m\u001b[1;32m    681\u001b[0m             \u001b[0;32mexcept\u001b[0m \u001b[0mIndexError\u001b[0m\u001b[0;34m:\u001b[0m\u001b[0;34m\u001b[0m\u001b[0m\n",
      "\u001b[0;31mIndexError\u001b[0m: pop from an empty deque",
      "\nDuring handling of the above exception, another exception occurred:\n",
      "\u001b[0;31mKeyboardInterrupt\u001b[0m                         Traceback (most recent call last)",
      "\u001b[0;32m<ipython-input-5-9c69311e43d7>\u001b[0m in \u001b[0;36m<module>\u001b[0;34m()\u001b[0m\n\u001b[1;32m      3\u001b[0m         \u001b[0;32mwith\u001b[0m \u001b[0mtqdm\u001b[0m\u001b[0;34m(\u001b[0m\u001b[0;34m)\u001b[0m \u001b[0;32mas\u001b[0m \u001b[0mprogress\u001b[0m\u001b[0;34m:\u001b[0m\u001b[0;34m\u001b[0m\u001b[0m\n\u001b[1;32m      4\u001b[0m             \u001b[0;32mwith\u001b[0m \u001b[0mmultiprocessing\u001b[0m\u001b[0;34m.\u001b[0m\u001b[0mPool\u001b[0m\u001b[0;34m(\u001b[0m\u001b[0mprocesses\u001b[0m\u001b[0;34m=\u001b[0m\u001b[0;36m32\u001b[0m\u001b[0;34m)\u001b[0m \u001b[0;32mas\u001b[0m \u001b[0mpool\u001b[0m\u001b[0;34m:\u001b[0m\u001b[0;34m\u001b[0m\u001b[0m\n\u001b[0;32m----> 5\u001b[0;31m                 \u001b[0;32mfor\u001b[0m \u001b[0marchive_entry\u001b[0m \u001b[0;32min\u001b[0m \u001b[0mpool\u001b[0m\u001b[0;34m.\u001b[0m\u001b[0mimap\u001b[0m\u001b[0;34m(\u001b[0m\u001b[0mscrape_article\u001b[0m\u001b[0;34m,\u001b[0m \u001b[0min_archive\u001b[0m\u001b[0;34m,\u001b[0m \u001b[0mchunksize\u001b[0m\u001b[0;34m=\u001b[0m\u001b[0;36m1\u001b[0m\u001b[0;34m)\u001b[0m\u001b[0;34m:\u001b[0m\u001b[0;34m\u001b[0m\u001b[0m\n\u001b[0m\u001b[1;32m      6\u001b[0m                     \u001b[0;32mif\u001b[0m \u001b[0marchive_entry\u001b[0m \u001b[0;32mis\u001b[0m \u001b[0;32mNone\u001b[0m\u001b[0;34m:\u001b[0m\u001b[0;34m\u001b[0m\u001b[0m\n\u001b[1;32m      7\u001b[0m                         \u001b[0;32mcontinue\u001b[0m\u001b[0;34m\u001b[0m\u001b[0m\n",
      "\u001b[0;32m/Library/Frameworks/Python.framework/Versions/3.5/lib/python3.5/multiprocessing/pool.py\u001b[0m in \u001b[0;36mnext\u001b[0;34m(self, timeout)\u001b[0m\n\u001b[1;32m    682\u001b[0m                 \u001b[0;32mif\u001b[0m \u001b[0mself\u001b[0m\u001b[0;34m.\u001b[0m\u001b[0m_index\u001b[0m \u001b[0;34m==\u001b[0m \u001b[0mself\u001b[0m\u001b[0;34m.\u001b[0m\u001b[0m_length\u001b[0m\u001b[0;34m:\u001b[0m\u001b[0;34m\u001b[0m\u001b[0m\n\u001b[1;32m    683\u001b[0m                     \u001b[0;32mraise\u001b[0m \u001b[0mStopIteration\u001b[0m\u001b[0;34m\u001b[0m\u001b[0m\n\u001b[0;32m--> 684\u001b[0;31m                 \u001b[0mself\u001b[0m\u001b[0;34m.\u001b[0m\u001b[0m_cond\u001b[0m\u001b[0;34m.\u001b[0m\u001b[0mwait\u001b[0m\u001b[0;34m(\u001b[0m\u001b[0mtimeout\u001b[0m\u001b[0;34m)\u001b[0m\u001b[0;34m\u001b[0m\u001b[0m\n\u001b[0m\u001b[1;32m    685\u001b[0m                 \u001b[0;32mtry\u001b[0m\u001b[0;34m:\u001b[0m\u001b[0;34m\u001b[0m\u001b[0m\n\u001b[1;32m    686\u001b[0m                     \u001b[0mitem\u001b[0m \u001b[0;34m=\u001b[0m \u001b[0mself\u001b[0m\u001b[0;34m.\u001b[0m\u001b[0m_items\u001b[0m\u001b[0;34m.\u001b[0m\u001b[0mpopleft\u001b[0m\u001b[0;34m(\u001b[0m\u001b[0;34m)\u001b[0m\u001b[0;34m\u001b[0m\u001b[0m\n",
      "\u001b[0;32m/Library/Frameworks/Python.framework/Versions/3.5/lib/python3.5/threading.py\u001b[0m in \u001b[0;36mwait\u001b[0;34m(self, timeout)\u001b[0m\n\u001b[1;32m    291\u001b[0m         \u001b[0;32mtry\u001b[0m\u001b[0;34m:\u001b[0m    \u001b[0;31m# restore state no matter what (e.g., KeyboardInterrupt)\u001b[0m\u001b[0;34m\u001b[0m\u001b[0m\n\u001b[1;32m    292\u001b[0m             \u001b[0;32mif\u001b[0m \u001b[0mtimeout\u001b[0m \u001b[0;32mis\u001b[0m \u001b[0;32mNone\u001b[0m\u001b[0;34m:\u001b[0m\u001b[0;34m\u001b[0m\u001b[0m\n\u001b[0;32m--> 293\u001b[0;31m                 \u001b[0mwaiter\u001b[0m\u001b[0;34m.\u001b[0m\u001b[0macquire\u001b[0m\u001b[0;34m(\u001b[0m\u001b[0;34m)\u001b[0m\u001b[0;34m\u001b[0m\u001b[0m\n\u001b[0m\u001b[1;32m    294\u001b[0m                 \u001b[0mgotit\u001b[0m \u001b[0;34m=\u001b[0m \u001b[0;32mTrue\u001b[0m\u001b[0;34m\u001b[0m\u001b[0m\n\u001b[1;32m    295\u001b[0m             \u001b[0;32melse\u001b[0m\u001b[0;34m:\u001b[0m\u001b[0;34m\u001b[0m\u001b[0m\n",
      "\u001b[0;31mKeyboardInterrupt\u001b[0m: "
     ]
    }
   ],
   "source": [
    "with open('data/nytimes/archive_scraped.jsonl', 'w') as out_archive_scraped:\n",
    "    with open('data/nytimes/archive.json', 'r') as in_archive: \n",
    "        with tqdm() as progress:\n",
    "            with multiprocessing.Pool(processes=32) as pool:\n",
    "                for archive_entry in pool.imap(scrape_article, in_archive, chunksize=1):\n",
    "                    if archive_entry is None:\n",
    "                        continue\n",
    "\n",
    "                    out_archive_scraped.write(ujson.dumps(archive_entry) + '\\n')\n",
    "                    progress.update()"
   ]
  },
  {
   "cell_type": "markdown",
   "metadata": {
    "ExecuteTime": {
     "end_time": "2018-02-08T19:59:38.541290Z",
     "start_time": "2018-02-08T19:59:38.518749Z"
    },
    "collapsed": false,
    "deletable": true,
    "editable": true
   },
   "source": [
    "# Insert into DB"
   ]
  },
  {
   "cell_type": "code",
   "execution_count": 45,
   "metadata": {
    "ExecuteTime": {
     "end_time": "2018-02-11T00:34:37.999989Z",
     "start_time": "2018-02-11T00:34:37.990400Z"
    },
    "collapsed": true
   },
   "outputs": [],
   "source": [
    "path_data = '/Volumes/ExternalSSD/FakeNewsRecognition/'\n",
    "peewee_database_nytimes = SqliteDatabase(path_data + 'nytimes/news_cleaned_nytimes.db')\n",
    "Page._meta.database = peewee_database_nytimes"
   ]
  },
  {
   "cell_type": "code",
   "execution_count": 46,
   "metadata": {
    "ExecuteTime": {
     "end_time": "2018-02-11T00:34:38.878430Z",
     "start_time": "2018-02-11T00:34:38.866117Z"
    },
    "collapsed": true
   },
   "outputs": [],
   "source": [
    "Page.create_table()"
   ]
  },
  {
   "cell_type": "code",
   "execution_count": 47,
   "metadata": {
    "ExecuteTime": {
     "end_time": "2018-02-11T00:49:52.137055Z",
     "start_time": "2018-02-11T00:34:40.140084Z"
    },
    "collapsed": false,
    "deletable": true,
    "editable": true
   },
   "outputs": [
    {
     "name": "stderr",
     "output_type": "stream",
     "text": [
      "1542967it [15:11, 1692.09it/s]\n"
     ]
    }
   ],
   "source": [
    "pages_to_insert = []\n",
    "with tqdm() as progress:\n",
    "    with open(path_data + 'nytimes/archive_scraped.jsonl', 'r') as in_archive_scraped:\n",
    "        for line in in_archive_scraped:\n",
    "            page = ujson.loads(line)\n",
    "            \n",
    "            if 'main' not in page['headline'] and 'content_kicker' not in page['headline']:\n",
    "                continue\n",
    "\n",
    "            pages_to_insert.append({\n",
    "                'batch': 0,\n",
    "                'scraped_page_id': 0,\n",
    "                'domain': 'nytimes.com',\n",
    "                'type': 'reliable',\n",
    "                'scraped_at': datetime.now(),\n",
    "                'url': page['web_url'],\n",
    "                'title': page['headline']['main'] if 'main' in page['headline'] else page['headline']['content_kicker'],\n",
    "                'content': page['newspaper']['content'],\n",
    "                'authors': page['newspaper']['authors'],\n",
    "                'keywords': page['newspaper']['keywords'],\n",
    "                'meta_keywords': page['newspaper']['meta_keywords'],\n",
    "                'meta_description': page['newspaper']['meta_description'],\n",
    "                'tags': page['newspaper']['tags'],\n",
    "                'summary': page['newspaper']['summary']\n",
    "            })\n",
    "\n",
    "            progress.update()\n",
    "\n",
    "            if len(pages_to_insert) > 25:\n",
    "                with peewee_database_nytimes.atomic():\n",
    "                    Page.insert_many(pages_to_insert).execute()\n",
    "                    pages_to_insert = []\n",
    "\n",
    "with peewee_database_nytimes.atomic():\n",
    "    Page.insert_many(pages_to_insert).execute()"
   ]
  },
  {
   "cell_type": "code",
   "execution_count": 39,
   "metadata": {
    "ExecuteTime": {
     "end_time": "2018-02-11T00:32:38.923611Z",
     "start_time": "2018-02-11T00:32:38.904419Z"
    },
    "collapsed": false
   },
   "outputs": [
    {
     "data": {
      "text/plain": [
       "{'_id': '54b4171b38f0d8623a353a07',\n",
       " 'abstract': None,\n",
       " 'blog': [],\n",
       " 'byline': None,\n",
       " 'document_type': 'article',\n",
       " 'headline': {'sub': 'May 22, 2006  ;'},\n",
       " 'keywords': [],\n",
       " 'lead_paragraph': 'Lottery Numbers',\n",
       " 'multimedia': [],\n",
       " 'news_desk': 'Metro',\n",
       " 'newspaper': {'authors': '',\n",
       "  'content': 'We’re interested in your feedback on this page. Tell us what you think.',\n",
       "  'keywords': '',\n",
       "  'meta_description': 'Lottery Numbers',\n",
       "  'meta_keywords': [''],\n",
       "  'summary': '',\n",
       "  'tags': '',\n",
       "  'title': '- The New York Times'},\n",
       " 'print_page': '3',\n",
       " 'pub_date': '2006-05-23T00:00:00Z',\n",
       " 'section_name': 'N.Y. / Region',\n",
       " 'slideshow_credits': None,\n",
       " 'snippet': 'Lottery Numbers...',\n",
       " 'source': 'The New York Times',\n",
       " 'subsection_name': None,\n",
       " 'type_of_material': 'News',\n",
       " 'web_url': 'https://www.nytimes.com/2006/05/23/nyregion/23lottery.html',\n",
       " 'word_count': '168'}"
      ]
     },
     "execution_count": 39,
     "metadata": {},
     "output_type": "execute_result"
    }
   ],
   "source": [
    "page"
   ]
  },
  {
   "cell_type": "code",
   "execution_count": null,
   "metadata": {
    "collapsed": true
   },
   "outputs": [],
   "source": []
  }
 ],
 "metadata": {
  "kernelspec": {
   "display_name": "Python 3",
   "language": "python",
   "name": "python3"
  },
  "language_info": {
   "codemirror_mode": {
    "name": "ipython",
    "version": 3
   },
   "file_extension": ".py",
   "mimetype": "text/x-python",
   "name": "python",
   "nbconvert_exporter": "python",
   "pygments_lexer": "ipython3",
   "version": "3.5.2"
  },
  "toc": {
   "nav_menu": {},
   "number_sections": true,
   "sideBar": true,
   "skip_h1_title": false,
   "toc_cell": true,
   "toc_position": {},
   "toc_section_display": "block",
   "toc_window_display": false
  }
 },
 "nbformat": 4,
 "nbformat_minor": 2
}

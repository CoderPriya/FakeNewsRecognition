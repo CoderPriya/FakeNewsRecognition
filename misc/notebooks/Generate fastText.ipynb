{
 "cells": [
  {
   "cell_type": "code",
   "execution_count": 17,
   "metadata": {
    "ExecuteTime": {
     "end_time": "2018-02-13T01:16:34.422611Z",
     "start_time": "2018-02-13T01:16:34.376147Z"
    },
    "collapsed": true
   },
   "outputs": [],
   "source": [
    "import logging\n",
    "from typing import List\n",
    "import multiprocessing\n",
    "\n",
    "import pandas as pd\n",
    "import peewee\n",
    "from playhouse.shortcuts import model_to_dict\n",
    "from tqdm import tqdm\n",
    "import gensim\n",
    "\n",
    "from database import Page"
   ]
  },
  {
   "cell_type": "markdown",
   "metadata": {
    "toc": true
   },
   "source": [
    "<h1>Table of Contents<span class=\"tocSkip\"></span></h1>\n",
    "<div class=\"toc\" style=\"margin-top: 1em;\"><ul class=\"toc-item\"></ul></div>"
   ]
  },
  {
   "cell_type": "code",
   "execution_count": 2,
   "metadata": {
    "ExecuteTime": {
     "end_time": "2018-02-13T00:14:15.405091Z",
     "start_time": "2018-02-13T00:14:15.398759Z"
    },
    "collapsed": true
   },
   "outputs": [],
   "source": [
    "path_data = '/Volumes/ExternalSSD/FakeNewsRecognition/'"
   ]
  },
  {
   "cell_type": "code",
   "execution_count": 3,
   "metadata": {
    "ExecuteTime": {
     "end_time": "2018-02-13T00:14:49.633544Z",
     "start_time": "2018-02-13T00:14:49.626848Z"
    },
    "collapsed": true
   },
   "outputs": [],
   "source": [
    "Page._meta.database = peewee.SqliteDatabase(path_data + 'news_cleaned_2018_01_29+postgres+nytimes+webhose.db')"
   ]
  },
  {
   "cell_type": "code",
   "execution_count": 6,
   "metadata": {
    "ExecuteTime": {
     "end_time": "2018-02-13T00:17:56.583832Z",
     "start_time": "2018-02-13T00:17:56.567502Z"
    },
    "collapsed": true
   },
   "outputs": [],
   "source": [
    "def fetch_pages(last_id, batch_size):\n",
    "    while True:\n",
    "        pages = list(Page.select()\n",
    "                     .where((Page.id > last_id) &\n",
    "                            (peewee.fn.Length(Page.url) > 40) & (peewee.fn.Length(Page.content) > 40))\n",
    "                     .order_by(Page.id.asc()).limit(batch_size))  # type: List[Page]\n",
    "\n",
    "        logging.debug('Last id:%s' % (pages[-1].id if len(pages) > 0 else None))\n",
    "        if len(pages) <= 0:\n",
    "            return False\n",
    "\n",
    "        for page in pages:\n",
    "            yield page\n",
    "\n",
    "            last_id = page.id"
   ]
  },
  {
   "cell_type": "code",
   "execution_count": 27,
   "metadata": {
    "ExecuteTime": {
     "end_time": "2018-02-13T05:16:31.378335Z",
     "start_time": "2018-02-13T01:24:53.974523Z"
    },
    "collapsed": false
   },
   "outputs": [
    {
     "name": "stderr",
     "output_type": "stream",
     "text": [
      "8528956it [3:51:37, 613.71it/s] \n"
     ]
    }
   ],
   "source": [
    "with open(path_data + 'news_cleaned_2018_01_29+postgres+nytimes+webhose.preprocessed.txt', 'w') as out_preprocess:\n",
    "    with tqdm() as progress: \n",
    "        for page in fetch_pages(0, 1000):\n",
    "            text = page.title + page.content\n",
    "            text_cleaned = gensim.parsing.preprocessing.preprocess_string(text, [\n",
    "                gensim.parsing.preprocessing.strip_tags,\n",
    "                gensim.parsing.preprocessing.strip_punctuation,\n",
    "                gensim.parsing.preprocessing.strip_multiple_whitespaces,\n",
    "                gensim.parsing.preprocessing.strip_numeric,\n",
    "                gensim.parsing.preprocessing.remove_stopwords,\n",
    "                gensim.parsing.preprocessing.strip_short,\n",
    "                lambda x: x.lower()\n",
    "#                 gensim.parsing.preprocessing.stem_text\n",
    "            ])\n",
    "            \n",
    "            out_preprocess.write(' '.join(text_cleaned) + '\\n')\n",
    "            progress.update()"
   ]
  },
  {
   "cell_type": "code",
   "execution_count": null,
   "metadata": {
    "collapsed": true
   },
   "outputs": [],
   "source": []
  },
  {
   "cell_type": "code",
   "execution_count": null,
   "metadata": {
    "collapsed": true
   },
   "outputs": [],
   "source": []
  }
 ],
 "metadata": {
  "kernelspec": {
   "display_name": "Python 3",
   "language": "python",
   "name": "python3"
  },
  "language_info": {
   "codemirror_mode": {
    "name": "ipython",
    "version": 3
   },
   "file_extension": ".py",
   "mimetype": "text/x-python",
   "name": "python",
   "nbconvert_exporter": "python",
   "pygments_lexer": "ipython3",
   "version": "3.5.2"
  },
  "toc": {
   "nav_menu": {},
   "number_sections": true,
   "sideBar": true,
   "skip_h1_title": false,
   "toc_cell": true,
   "toc_position": {},
   "toc_section_display": "block",
   "toc_window_display": false
  }
 },
 "nbformat": 4,
 "nbformat_minor": 2
}

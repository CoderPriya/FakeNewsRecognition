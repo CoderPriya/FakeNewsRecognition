{
 "cells": [
  {
   "cell_type": "code",
   "execution_count": 10,
   "metadata": {
    "ExecuteTime": {
     "end_time": "2018-02-10T22:03:52.891305Z",
     "start_time": "2018-02-10T22:03:52.849445Z"
    },
    "collapsed": false
   },
   "outputs": [],
   "source": [
    "from tqdm import tqdm\n",
    "from peewee import SqliteDatabase, fn\n",
    "from playhouse.shortcuts import model_to_dict\n",
    "\n",
    "from database import Page"
   ]
  },
  {
   "cell_type": "code",
   "execution_count": 11,
   "metadata": {
    "ExecuteTime": {
     "end_time": "2018-02-10T22:03:53.209043Z",
     "start_time": "2018-02-10T22:03:53.195257Z"
    },
    "collapsed": false
   },
   "outputs": [],
   "source": [
    "path_data = '/Volumes/ExternalSSD/FakeNewsRecognition/'\n",
    "peewee_database_postgres = SqliteDatabase(path_data + 'news_cleaned_postgres.db')\n",
    "peewee_database_2018_01_29_and_postgres = SqliteDatabase(path_data + 'news_cleaned_2018_01_29+postgres.db')"
   ]
  },
  {
   "cell_type": "code",
   "execution_count": 12,
   "metadata": {
    "ExecuteTime": {
     "end_time": "2018-02-10T22:03:55.632538Z",
     "start_time": "2018-02-10T22:03:55.560834Z"
    },
    "collapsed": false
   },
   "outputs": [
    {
     "data": {
      "text/plain": [
       "6755636"
      ]
     },
     "execution_count": 12,
     "metadata": {},
     "output_type": "execute_result"
    }
   ],
   "source": [
    "Page._meta.database = SqliteDatabase(path_data + 'news_cleaned_postgres.db')\n",
    "Page.select(fn.Max(Page.id)).scalar()"
   ]
  },
  {
   "cell_type": "markdown",
   "metadata": {
    "toc": true
   },
   "source": [
    "<h1>Table of Contents<span class=\"tocSkip\"></span></h1>\n",
    "<div class=\"toc\" style=\"margin-top: 1em;\"><ul class=\"toc-item\"><li><span><a href=\"#Analytics\" data-toc-modified-id=\"Analytics-1\"><span class=\"toc-item-num\">1&nbsp;&nbsp;</span>Analytics</a></span></li><li><span><a href=\"#Merge-news_cleaned_2018_01_29-with-news_cleaned_postgres\" data-toc-modified-id=\"Merge-news_cleaned_2018_01_29-with-news_cleaned_postgres-2\"><span class=\"toc-item-num\">2&nbsp;&nbsp;</span>Merge news_cleaned_2018_01_29 with news_cleaned_postgres</a></span></li></ul></div>"
   ]
  },
  {
   "cell_type": "markdown",
   "metadata": {
    "ExecuteTime": {
     "end_time": "2018-02-10T23:39:39.950799Z",
     "start_time": "2018-02-10T23:39:39.930805Z"
    }
   },
   "source": [
    "# Analytics"
   ]
  },
  {
   "cell_type": "code",
   "execution_count": 14,
   "metadata": {
    "ExecuteTime": {
     "end_time": "2018-02-10T22:04:33.846792Z",
     "start_time": "2018-02-10T22:04:33.826331Z"
    },
    "collapsed": true
   },
   "outputs": [],
   "source": [
    "def fetch_pages(last_id, batch_size, db):\n",
    "    while True:\n",
    "        Page._meta.database = db\n",
    "        db.connect(reuse_if_open=True)\n",
    "        \n",
    "        pages = list(Page.select()\n",
    "                     .where((Page.id > last_id) & (Page.id <= (last_id + batch_size)))\n",
    "                     .order_by(Page.id.asc()))\n",
    "\n",
    "        if len(pages) <= 0:\n",
    "            return\n",
    "\n",
    "        for page in pages:\n",
    "            yield page\n",
    "\n",
    "            last_id = page.id"
   ]
  },
  {
   "cell_type": "code",
   "execution_count": null,
   "metadata": {
    "ExecuteTime": {
     "end_time": "2018-02-10T12:19:51.927857Z",
     "start_time": "2018-02-10T11:36:37.240364Z"
    },
    "collapsed": false,
    "scrolled": true
   },
   "outputs": [],
   "source": [
    "domains_counter = {}\n",
    "with tqdm() as progress:\n",
    "    for page in fetch_pages(0, 10 * 1000):\n",
    "        domains_counter.setdefault(page.domain, 0)\n",
    "        domains_counter[page.domain] += 1\n",
    "        progress.update()"
   ]
  },
  {
   "cell_type": "code",
   "execution_count": null,
   "metadata": {
    "ExecuteTime": {
     "end_time": "2018-02-10T12:51:13.543245Z",
     "start_time": "2018-02-10T12:51:13.435798Z"
    },
    "collapsed": false
   },
   "outputs": [],
   "source": [
    "domains_counter_list = list(domains_counter.items())\n",
    "domains_counter_sorted = sorted(domains_counter_list, key=lambda x: x[1], reverse=True)\n",
    "domains_counter_sorted"
   ]
  },
  {
   "cell_type": "markdown",
   "metadata": {
    "ExecuteTime": {
     "end_time": "2018-02-10T12:58:42.558056Z",
     "start_time": "2018-02-10T12:58:42.543958Z"
    }
   },
   "source": [
    "# Merge news_cleaned_2018_01_29 with news_cleaned_postgres"
   ]
  },
  {
   "cell_type": "code",
   "execution_count": 15,
   "metadata": {
    "ExecuteTime": {
     "end_time": "2018-02-10T22:04:36.473007Z",
     "start_time": "2018-02-10T22:04:36.466191Z"
    },
    "collapsed": true
   },
   "outputs": [],
   "source": [
    "def insert_bulk(pages, db):\n",
    "    Page._meta.database = db\n",
    "    db.connect(reuse_if_open=True)\n",
    "    \n",
    "    with db.atomic():\n",
    "        Page.insert_many(pages).execute()"
   ]
  },
  {
   "cell_type": "code",
   "execution_count": 16,
   "metadata": {
    "ExecuteTime": {
     "end_time": "2018-02-10T23:39:39.917516Z",
     "start_time": "2018-02-10T22:04:45.054374Z"
    },
    "collapsed": false
   },
   "outputs": [
    {
     "name": "stderr",
     "output_type": "stream",
     "text": [
      "6755636it [1:34:54, 1186.28it/s]\n"
     ]
    }
   ],
   "source": [
    "batch_size = 50\n",
    "pages_to_insert = []\n",
    "with tqdm() as progress:\n",
    "    for page in fetch_pages(0, batch_size, peewee_database_postgres):\n",
    "        _page = model_to_dict(page)\n",
    "        del _page['id']\n",
    "        \n",
    "        pages_to_insert.append(_page)\n",
    "        progress.update()\n",
    "        \n",
    "        if len(pages_to_insert) > batch_size:\n",
    "            insert_bulk(pages_to_insert, peewee_database_2018_01_29_and_postgres)\n",
    "            pages_to_insert = []   \n",
    "        \n",
    "insert_bulk(pages_to_insert, peewee_database_2018_01_29_and_postgres)"
   ]
  },
  {
   "cell_type": "code",
   "execution_count": null,
   "metadata": {
    "collapsed": true
   },
   "outputs": [],
   "source": []
  }
 ],
 "metadata": {
  "kernelspec": {
   "display_name": "Python 3",
   "language": "python",
   "name": "python3"
  },
  "language_info": {
   "codemirror_mode": {
    "name": "ipython",
    "version": 3
   },
   "file_extension": ".py",
   "mimetype": "text/x-python",
   "name": "python",
   "nbconvert_exporter": "python",
   "pygments_lexer": "ipython3",
   "version": "3.5.2"
  },
  "toc": {
   "nav_menu": {},
   "number_sections": true,
   "sideBar": true,
   "skip_h1_title": false,
   "toc_cell": true,
   "toc_position": {},
   "toc_section_display": "block",
   "toc_window_display": false
  }
 },
 "nbformat": 4,
 "nbformat_minor": 2
}

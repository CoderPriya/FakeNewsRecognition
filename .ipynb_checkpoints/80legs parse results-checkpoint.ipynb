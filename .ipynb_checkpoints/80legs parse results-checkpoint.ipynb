{
 "cells": [
  {
   "cell_type": "code",
   "execution_count": 9,
   "metadata": {},
   "outputs": [],
   "source": [
    "import multiprocessing\n",
    "\n",
    "from tqdm import tqdm\n",
    "import newspaper\n",
    "import requests\n",
    "import ujson"
   ]
  },
  {
   "cell_type": "code",
   "execution_count": 4,
   "metadata": {},
   "outputs": [],
   "source": [
    "def download_all_results(api_token, crawl_name, out_path):\n",
    "    with open(out_path, 'w') as _out:\n",
    "        response = requests.get('https://' + api_token + ':@api.80legs.com/v2/results/' + crawl_name)\n",
    "        result_files = response.json()\n",
    "        for result_file in tqdm(result_files): \n",
    "            file_response = requests.get(result_file, stream=True)\n",
    "            file_content = bytearray()\n",
    "            for chunk in file_response.iter_content(chunk_size=1024):\n",
    "                file_content.extend(chunk)\n",
    "\n",
    "            try:\n",
    "                results = ujson.loads(file_content.decode('utf-8'))\n",
    "                for result in results: \n",
    "                    _out.write(ujson.dumps(result) + '\\n')\n",
    "            except Exception:\n",
    "                print('Failed :(', crawl_name)"
   ]
  },
  {
   "cell_type": "code",
   "execution_count": 6,
   "metadata": {},
   "outputs": [
    {
     "name": "stderr",
     "output_type": "stream",
     "text": [
      "100%|██████████| 146/146 [23:49<00:00,  9.79s/it]\n"
     ]
    }
   ],
   "source": [
    "download_all_results('zkznwmuog07v6zjnef1igo32h80jtwo2', 'FakeNews_1', 'data/11_80legs/FakeNews_1_result.json')"
   ]
  },
  {
   "cell_type": "code",
   "execution_count": 11,
   "metadata": {},
   "outputs": [],
   "source": [
    "def process_result(result):\n",
    "    result = ujson.loads(result)\n",
    "\n",
    "    if 'url' not in result or 'result' not in result:\n",
    "        return\n",
    "\n",
    "    url = result['url']\n",
    "    html = result['result']\n",
    "\n",
    "    if url is None or html is None or len(html) <= 1:\n",
    "        return\n",
    "\n",
    "    article = newspaper.Article(url)\n",
    "    article.set_html(html)\n",
    "    article.parse()\n",
    "\n",
    "    return ujson.dumps({\n",
    "        'title': article.title,\n",
    "        'body': article.text,\n",
    "        'meta': {\n",
    "            'original_id': url,\n",
    "            'url': url,\n",
    "            'published_at': article.publish_date,\n",
    "            'raw': {\n",
    "                'images': article.images,\n",
    "                'favicon': article.meta_favicon,\n",
    "                'tags': article.tags,\n",
    "                'authors': article.authors,\n",
    "                'top_image': article.top_image,\n",
    "                'html': html\n",
    "            }\n",
    "        }\n",
    "    }) + '\\n'"
   ]
  },
  {
   "cell_type": "code",
   "execution_count": null,
   "metadata": {},
   "outputs": [
    {
     "name": "stderr",
     "output_type": "stream",
     "text": [
      "\n",
      "0it [00:00, ?it/s]\u001b[A\n",
      "\n",
      "\n",
      "\n",
      "\n",
      "1it [00:04,  4.00s/it]\u001b[A\n",
      "41it [00:06,  2.82s/it]\u001b[A\n",
      "51it [00:06,  2.00s/it]\u001b[A\n",
      "71it [00:07,  1.40s/it]\u001b[A\n",
      "Exception in thread Thread-5:\n",
      "Traceback (most recent call last):\n",
      "  File \"/usr/lib/python3.5/threading.py\", line 914, in _bootstrap_inner\n",
      "    self.run()\n",
      "  File \"/usr/local/lib/python3.5/dist-packages/tqdm/_tqdm.py\", line 144, in run\n",
      "    for instance in self.tqdm_cls._instances:\n",
      "  File \"/usr/lib/python3.5/_weakrefset.py\", line 60, in __iter__\n",
      "    for itemref in self.data:\n",
      "RuntimeError: Set changed size during iteration\n",
      "\n",
      "871it [01:01, 14.36it/s]"
     ]
    }
   ],
   "source": [
    "with open('data/11_80legs/FakeNews_1_results_parsed.json', 'w') as _out: \n",
    "    with open('data/11_80legs/FakeNews_1_result.json', 'r') as _in: \n",
    "        bar = tqdm()\n",
    "        pool = multiprocessing.Pool(processes=multiprocessing.cpu_count())\n",
    "        for result in pool.imap(process_result, _in, 10):\n",
    "            if result is None: \n",
    "                continue\n",
    "\n",
    "            _out.write(result)\n",
    "            bar.update()"
   ]
  },
  {
   "cell_type": "code",
   "execution_count": null,
   "metadata": {},
   "outputs": [],
   "source": []
  }
 ],
 "metadata": {
  "kernelspec": {
   "display_name": "Python 3",
   "language": "python",
   "name": "python3"
  },
  "language_info": {
   "codemirror_mode": {
    "name": "ipython",
    "version": 3
   },
   "file_extension": ".py",
   "mimetype": "text/x-python",
   "name": "python",
   "nbconvert_exporter": "python",
   "pygments_lexer": "ipython3",
   "version": "3.5.2"
  }
 },
 "nbformat": 4,
 "nbformat_minor": 2
}
